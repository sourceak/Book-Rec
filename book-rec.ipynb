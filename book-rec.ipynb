{
 "cells": [
  {
   "cell_type": "code",
   "execution_count": 1,
   "id": "b728daa1",
   "metadata": {
    "_cell_guid": "b1076dfc-b9ad-4769-8c92-a6c4dae69d19",
    "_uuid": "8f2839f25d086af736a60e9eeb907d3b93b6e0e5",
    "execution": {
     "iopub.execute_input": "2023-08-30T09:34:59.038735Z",
     "iopub.status.busy": "2023-08-30T09:34:59.038122Z",
     "iopub.status.idle": "2023-08-30T09:34:59.056274Z",
     "shell.execute_reply": "2023-08-30T09:34:59.055347Z"
    },
    "papermill": {
     "duration": 0.045561,
     "end_time": "2023-08-30T09:34:59.059063",
     "exception": false,
     "start_time": "2023-08-30T09:34:59.013502",
     "status": "completed"
    },
    "tags": []
   },
   "outputs": [
    {
     "name": "stdout",
     "output_type": "stream",
     "text": [
      "/kaggle/input/goodreadsbooks/books.csv\n"
     ]
    }
   ],
   "source": [
    "import numpy as np # linear algebra\n",
    "import pandas as pd # data processing, CSV file I/O (e.g. pd.read_csv)\n",
    "\n",
    "import os\n",
    "for dirname, _, filenames in os.walk('/kaggle/input'):\n",
    "    for filename in filenames:\n",
    "        print(os.path.join(dirname, filename))"
   ]
  },
  {
   "cell_type": "code",
   "execution_count": 2,
   "id": "3a63dc91",
   "metadata": {
    "execution": {
     "iopub.execute_input": "2023-08-30T09:34:59.103765Z",
     "iopub.status.busy": "2023-08-30T09:34:59.103436Z",
     "iopub.status.idle": "2023-08-30T09:34:59.205456Z",
     "shell.execute_reply": "2023-08-30T09:34:59.204531Z"
    },
    "papermill": {
     "duration": 0.127372,
     "end_time": "2023-08-30T09:34:59.208308",
     "exception": false,
     "start_time": "2023-08-30T09:34:59.080936",
     "status": "completed"
    },
    "tags": []
   },
   "outputs": [
    {
     "name": "stderr",
     "output_type": "stream",
     "text": [
      "/opt/conda/lib/python3.7/site-packages/IPython/core/interactiveshell.py:3524: FutureWarning: The error_bad_lines argument has been deprecated and will be removed in a future version.\n",
      "\n",
      "\n",
      "  exec(code_obj, self.user_global_ns, self.user_ns)\n",
      "b'Skipping line 3350: expected 12 fields, saw 13\\nSkipping line 4704: expected 12 fields, saw 13\\nSkipping line 5879: expected 12 fields, saw 13\\nSkipping line 8981: expected 12 fields, saw 13\\n'\n"
     ]
    }
   ],
   "source": [
    "df = pd.read_csv(\"/kaggle/input/goodreadsbooks/books.csv\", error_bad_lines=False)"
   ]
  },
  {
   "cell_type": "markdown",
   "id": "d53276de",
   "metadata": {
    "papermill": {
     "duration": 0.021941,
     "end_time": "2023-08-30T09:34:59.252277",
     "exception": false,
     "start_time": "2023-08-30T09:34:59.230336",
     "status": "completed"
    },
    "tags": []
   },
   "source": [
    "# Preprocessing"
   ]
  },
  {
   "cell_type": "code",
   "execution_count": 3,
   "id": "eacf8a0b",
   "metadata": {
    "execution": {
     "iopub.execute_input": "2023-08-30T09:34:59.297156Z",
     "iopub.status.busy": "2023-08-30T09:34:59.296851Z",
     "iopub.status.idle": "2023-08-30T09:34:59.382633Z",
     "shell.execute_reply": "2023-08-30T09:34:59.381549Z"
    },
    "papermill": {
     "duration": 0.11219,
     "end_time": "2023-08-30T09:34:59.386311",
     "exception": false,
     "start_time": "2023-08-30T09:34:59.274121",
     "status": "completed"
    },
    "tags": []
   },
   "outputs": [
    {
     "name": "stdout",
     "output_type": "stream",
     "text": [
      "Count total NaN at each column in a DataFrame : 0\n"
     ]
    },
    {
     "data": {
      "text/html": [
       "<div>\n",
       "<style scoped>\n",
       "    .dataframe tbody tr th:only-of-type {\n",
       "        vertical-align: middle;\n",
       "    }\n",
       "\n",
       "    .dataframe tbody tr th {\n",
       "        vertical-align: top;\n",
       "    }\n",
       "\n",
       "    .dataframe thead th {\n",
       "        text-align: right;\n",
       "    }\n",
       "</style>\n",
       "<table border=\"1\" class=\"dataframe\">\n",
       "  <thead>\n",
       "    <tr style=\"text-align: right;\">\n",
       "      <th></th>\n",
       "      <th>title</th>\n",
       "      <th>authors</th>\n",
       "      <th>average_rating</th>\n",
       "      <th>pages</th>\n",
       "      <th>ratings_count</th>\n",
       "      <th>publication_date</th>\n",
       "      <th>publisher</th>\n",
       "      <th>full_book</th>\n",
       "      <th>bookID</th>\n",
       "    </tr>\n",
       "  </thead>\n",
       "  <tbody>\n",
       "    <tr>\n",
       "      <th>0</th>\n",
       "      <td>Harry Potter and the Half-Blood Prince (Harry ...</td>\n",
       "      <td>J.K. Rowling/Mary GrandPré</td>\n",
       "      <td>4.57</td>\n",
       "      <td>652</td>\n",
       "      <td>2095690</td>\n",
       "      <td>9/16/2006</td>\n",
       "      <td>Scholastic Inc.</td>\n",
       "      <td>Harry Potter and the Half-Blood Prince (Harry ...</td>\n",
       "      <td>0</td>\n",
       "    </tr>\n",
       "    <tr>\n",
       "      <th>1</th>\n",
       "      <td>Harry Potter and the Order of the Phoenix (Har...</td>\n",
       "      <td>J.K. Rowling/Mary GrandPré</td>\n",
       "      <td>4.49</td>\n",
       "      <td>870</td>\n",
       "      <td>2153167</td>\n",
       "      <td>9/1/2004</td>\n",
       "      <td>Scholastic Inc.</td>\n",
       "      <td>Harry Potter and the Order of the Phoenix (Har...</td>\n",
       "      <td>1</td>\n",
       "    </tr>\n",
       "    <tr>\n",
       "      <th>2</th>\n",
       "      <td>Harry Potter and the Chamber of Secrets (Harry...</td>\n",
       "      <td>J.K. Rowling</td>\n",
       "      <td>4.42</td>\n",
       "      <td>352</td>\n",
       "      <td>6333</td>\n",
       "      <td>11/1/2003</td>\n",
       "      <td>Scholastic</td>\n",
       "      <td>Harry Potter and the Chamber of Secrets (Harry...</td>\n",
       "      <td>2</td>\n",
       "    </tr>\n",
       "    <tr>\n",
       "      <th>3</th>\n",
       "      <td>Harry Potter and the Prisoner of Azkaban (Harr...</td>\n",
       "      <td>J.K. Rowling/Mary GrandPré</td>\n",
       "      <td>4.56</td>\n",
       "      <td>435</td>\n",
       "      <td>2339585</td>\n",
       "      <td>5/1/2004</td>\n",
       "      <td>Scholastic Inc.</td>\n",
       "      <td>Harry Potter and the Prisoner of Azkaban (Harr...</td>\n",
       "      <td>3</td>\n",
       "    </tr>\n",
       "    <tr>\n",
       "      <th>4</th>\n",
       "      <td>Harry Potter Boxed Set  Books 1-5 (Harry Potte...</td>\n",
       "      <td>J.K. Rowling/Mary GrandPré</td>\n",
       "      <td>4.78</td>\n",
       "      <td>2690</td>\n",
       "      <td>41428</td>\n",
       "      <td>9/13/2004</td>\n",
       "      <td>Scholastic</td>\n",
       "      <td>Harry Potter Boxed Set  Books 1-5 (Harry Potte...</td>\n",
       "      <td>4</td>\n",
       "    </tr>\n",
       "  </tbody>\n",
       "</table>\n",
       "</div>"
      ],
      "text/plain": [
       "                                               title  \\\n",
       "0  Harry Potter and the Half-Blood Prince (Harry ...   \n",
       "1  Harry Potter and the Order of the Phoenix (Har...   \n",
       "2  Harry Potter and the Chamber of Secrets (Harry...   \n",
       "3  Harry Potter and the Prisoner of Azkaban (Harr...   \n",
       "4  Harry Potter Boxed Set  Books 1-5 (Harry Potte...   \n",
       "\n",
       "                      authors  average_rating  pages  ratings_count  \\\n",
       "0  J.K. Rowling/Mary GrandPré            4.57    652        2095690   \n",
       "1  J.K. Rowling/Mary GrandPré            4.49    870        2153167   \n",
       "2                J.K. Rowling            4.42    352           6333   \n",
       "3  J.K. Rowling/Mary GrandPré            4.56    435        2339585   \n",
       "4  J.K. Rowling/Mary GrandPré            4.78   2690          41428   \n",
       "\n",
       "  publication_date        publisher  \\\n",
       "0        9/16/2006  Scholastic Inc.   \n",
       "1         9/1/2004  Scholastic Inc.   \n",
       "2        11/1/2003       Scholastic   \n",
       "3         5/1/2004  Scholastic Inc.   \n",
       "4        9/13/2004       Scholastic   \n",
       "\n",
       "                                           full_book  bookID  \n",
       "0  Harry Potter and the Half-Blood Prince (Harry ...       0  \n",
       "1  Harry Potter and the Order of the Phoenix (Har...       1  \n",
       "2  Harry Potter and the Chamber of Secrets (Harry...       2  \n",
       "3  Harry Potter and the Prisoner of Azkaban (Harr...       3  \n",
       "4  Harry Potter Boxed Set  Books 1-5 (Harry Potte...       4  "
      ]
     },
     "execution_count": 3,
     "metadata": {},
     "output_type": "execute_result"
    }
   ],
   "source": [
    "print(\"Count total NaN at each column in a DataFrame :\", df.isnull().sum().sum())\n",
    "\n",
    "df = df.drop(['isbn13', 'isbn', 'text_reviews_count', 'language_code'], axis = 1)\n",
    "df.rename(columns={'  num_pages': 'pages'}, inplace=True)\n",
    "\n",
    "df['full_book'] = df['title'] + ', ' + df['authors'] + ', ' + df['publisher'] + ', ' + df['average_rating'].astype(str) \n",
    "\n",
    "df = df.drop_duplicates(subset=['title'])\n",
    "df = df.reset_index(drop=True)\n",
    "df = df.drop(['bookID'], axis = 1)\n",
    "df['bookID'] = df.index\n",
    "\n",
    "df.head(5)"
   ]
  },
  {
   "cell_type": "markdown",
   "id": "e8f0acab",
   "metadata": {
    "papermill": {
     "duration": 0.022615,
     "end_time": "2023-08-30T09:34:59.432029",
     "exception": false,
     "start_time": "2023-08-30T09:34:59.409414",
     "status": "completed"
    },
    "tags": []
   },
   "source": [
    "# Content-Based Recommendation System"
   ]
  },
  {
   "cell_type": "code",
   "execution_count": 4,
   "id": "4c50a33c",
   "metadata": {
    "execution": {
     "iopub.execute_input": "2023-08-30T09:34:59.481565Z",
     "iopub.status.busy": "2023-08-30T09:34:59.480900Z",
     "iopub.status.idle": "2023-08-30T09:35:00.666359Z",
     "shell.execute_reply": "2023-08-30T09:35:00.665692Z"
    },
    "papermill": {
     "duration": 1.214025,
     "end_time": "2023-08-30T09:35:00.668899",
     "exception": false,
     "start_time": "2023-08-30T09:34:59.454874",
     "status": "completed"
    },
    "tags": []
   },
   "outputs": [],
   "source": [
    "from sklearn.feature_extraction.text import TfidfVectorizer \n",
    "from sklearn.metrics.pairwise import cosine_similarity \n",
    "tf = TfidfVectorizer()\n",
    "\n",
    "def book_rec(Title):\n",
    "    BookID = df[df.title == Title]['bookID'].values[0]\n",
    "    vector_matrix = tf.fit_transform(df['full_book'])\n",
    "    cs = cosine_similarity(vector_matrix)\n",
    "    \n",
    "    id_scores = list(enumerate(cs[BookID]))\n",
    "    sort_scores = sorted(id_scores,key=lambda x:x[1],reverse=True)\n",
    "    sort_scores = sort_scores[1:]\n",
    "    display_scores = sort_scores[0:10]\n",
    "    book_indices = [i[0] for i in display_scores]\n",
    "\n",
    "    print('Similarity Check: ')\n",
    "    res_list = [print(str(x[0])+':  '+str(x[1])+'%') for x in (display_scores)]\n",
    "    print(res_list)\n",
    "    \n",
    "    return df['title'].iloc[book_indices] "
   ]
  },
  {
   "cell_type": "code",
   "execution_count": 5,
   "id": "586d376e",
   "metadata": {
    "execution": {
     "iopub.execute_input": "2023-08-30T09:35:00.717147Z",
     "iopub.status.busy": "2023-08-30T09:35:00.716440Z",
     "iopub.status.idle": "2023-08-30T09:35:00.726493Z",
     "shell.execute_reply": "2023-08-30T09:35:00.725537Z"
    },
    "papermill": {
     "duration": 0.036751,
     "end_time": "2023-08-30T09:35:00.729095",
     "exception": false,
     "start_time": "2023-08-30T09:35:00.692344",
     "status": "completed"
    },
    "tags": []
   },
   "outputs": [],
   "source": [
    "def book_rec1(Author):\n",
    "    BookID = df[df.authors == Author]['bookID'].values[0]\n",
    "    vector_matrix = tf.fit_transform(df['full_book'])\n",
    "    cs = cosine_similarity(vector_matrix)\n",
    "\n",
    "    id_scores = list(enumerate(cs[BookID]))\n",
    "    sort_scores = sorted(id_scores,key=lambda x:x[1],reverse=True)\n",
    "    sort_scores = sort_scores[1:]\n",
    "    display_scores = sort_scores[0:10]\n",
    "    book_indices = [i[0] for i in display_scores]\n",
    "    \n",
    "    print('Similarity Check: ')\n",
    "    res_list = [print(str(x[0])+':  '+str(x[1])+'%') for x in (display_scores)]\n",
    "    print(res_list) \n",
    "    \n",
    "    return df['title'].iloc[book_indices]"
   ]
  },
  {
   "cell_type": "code",
   "execution_count": 6,
   "id": "5c0c2946",
   "metadata": {
    "execution": {
     "iopub.execute_input": "2023-08-30T09:35:00.776709Z",
     "iopub.status.busy": "2023-08-30T09:35:00.776366Z",
     "iopub.status.idle": "2023-08-30T09:35:00.794424Z",
     "shell.execute_reply": "2023-08-30T09:35:00.793539Z"
    },
    "papermill": {
     "duration": 0.044795,
     "end_time": "2023-08-30T09:35:00.797102",
     "exception": false,
     "start_time": "2023-08-30T09:35:00.752307",
     "status": "completed"
    },
    "tags": []
   },
   "outputs": [
    {
     "data": {
      "text/html": [
       "<div>\n",
       "<style scoped>\n",
       "    .dataframe tbody tr th:only-of-type {\n",
       "        vertical-align: middle;\n",
       "    }\n",
       "\n",
       "    .dataframe tbody tr th {\n",
       "        vertical-align: top;\n",
       "    }\n",
       "\n",
       "    .dataframe thead th {\n",
       "        text-align: right;\n",
       "    }\n",
       "</style>\n",
       "<table border=\"1\" class=\"dataframe\">\n",
       "  <thead>\n",
       "    <tr style=\"text-align: right;\">\n",
       "      <th></th>\n",
       "      <th>title</th>\n",
       "      <th>authors</th>\n",
       "      <th>average_rating</th>\n",
       "      <th>pages</th>\n",
       "      <th>ratings_count</th>\n",
       "      <th>publication_date</th>\n",
       "      <th>publisher</th>\n",
       "      <th>full_book</th>\n",
       "      <th>bookID</th>\n",
       "    </tr>\n",
       "  </thead>\n",
       "  <tbody>\n",
       "    <tr>\n",
       "      <th>10338</th>\n",
       "      <td>O Cavalo e o Seu Rapaz (As Crónicas de Nárnia ...</td>\n",
       "      <td>C.S. Lewis/Pauline Baynes/Ana Falcão Bastos</td>\n",
       "      <td>3.92</td>\n",
       "      <td>160</td>\n",
       "      <td>207</td>\n",
       "      <td>8/15/2003</td>\n",
       "      <td>Editorial Presença</td>\n",
       "      <td>O Cavalo e o Seu Rapaz (As Crónicas de Nárnia ...</td>\n",
       "      <td>10338</td>\n",
       "    </tr>\n",
       "    <tr>\n",
       "      <th>10339</th>\n",
       "      <td>O Sobrinho do Mágico (As Crónicas de Nárnia  #1)</td>\n",
       "      <td>C.S. Lewis/Pauline Baynes/Ana Falcão Bastos</td>\n",
       "      <td>4.04</td>\n",
       "      <td>147</td>\n",
       "      <td>396</td>\n",
       "      <td>4/8/2003</td>\n",
       "      <td>Editorial Presença</td>\n",
       "      <td>O Sobrinho do Mágico (As Crónicas de Nárnia  #...</td>\n",
       "      <td>10339</td>\n",
       "    </tr>\n",
       "    <tr>\n",
       "      <th>10340</th>\n",
       "      <td>A Viagem do Caminheiro da Alvorada (As Crónica...</td>\n",
       "      <td>C.S. Lewis/Pauline Baynes/Ana Falcão Bastos</td>\n",
       "      <td>4.09</td>\n",
       "      <td>176</td>\n",
       "      <td>161</td>\n",
       "      <td>9/1/2004</td>\n",
       "      <td>Editorial Presença</td>\n",
       "      <td>A Viagem do Caminheiro da Alvorada (As Crónica...</td>\n",
       "      <td>10340</td>\n",
       "    </tr>\n",
       "    <tr>\n",
       "      <th>10341</th>\n",
       "      <td>O Príncipe Caspian (As Crónicas de Nárnia  #4)</td>\n",
       "      <td>C.S. Lewis/Pauline Baynes/Ana Falcão Bastos</td>\n",
       "      <td>3.97</td>\n",
       "      <td>160</td>\n",
       "      <td>215</td>\n",
       "      <td>10/11/2003</td>\n",
       "      <td>Editorial Presença</td>\n",
       "      <td>O Príncipe Caspian (As Crónicas de Nárnia  #4)...</td>\n",
       "      <td>10341</td>\n",
       "    </tr>\n",
       "    <tr>\n",
       "      <th>10342</th>\n",
       "      <td>Whores for Gloria</td>\n",
       "      <td>William T. Vollmann</td>\n",
       "      <td>3.69</td>\n",
       "      <td>160</td>\n",
       "      <td>932</td>\n",
       "      <td>2/1/1994</td>\n",
       "      <td>Penguin Books</td>\n",
       "      <td>Whores for Gloria, William T. Vollmann, Pengui...</td>\n",
       "      <td>10342</td>\n",
       "    </tr>\n",
       "    <tr>\n",
       "      <th>10343</th>\n",
       "      <td>Expelled from Eden: A William T. Vollmann Reader</td>\n",
       "      <td>William T. Vollmann/Larry McCaffery/Michael He...</td>\n",
       "      <td>4.06</td>\n",
       "      <td>512</td>\n",
       "      <td>156</td>\n",
       "      <td>12/21/2004</td>\n",
       "      <td>Da Capo Press</td>\n",
       "      <td>Expelled from Eden: A William T. Vollmann Read...</td>\n",
       "      <td>10343</td>\n",
       "    </tr>\n",
       "    <tr>\n",
       "      <th>10344</th>\n",
       "      <td>You Bright and Risen Angels</td>\n",
       "      <td>William T. Vollmann</td>\n",
       "      <td>4.08</td>\n",
       "      <td>635</td>\n",
       "      <td>783</td>\n",
       "      <td>12/1/1988</td>\n",
       "      <td>Penguin Books</td>\n",
       "      <td>You Bright and Risen Angels, William T. Vollma...</td>\n",
       "      <td>10344</td>\n",
       "    </tr>\n",
       "    <tr>\n",
       "      <th>10345</th>\n",
       "      <td>The Ice-Shirt (Seven Dreams #1)</td>\n",
       "      <td>William T. Vollmann</td>\n",
       "      <td>3.96</td>\n",
       "      <td>415</td>\n",
       "      <td>820</td>\n",
       "      <td>8/1/1993</td>\n",
       "      <td>Penguin Books</td>\n",
       "      <td>The Ice-Shirt (Seven Dreams #1), William T. Vo...</td>\n",
       "      <td>10345</td>\n",
       "    </tr>\n",
       "    <tr>\n",
       "      <th>10346</th>\n",
       "      <td>Poor People</td>\n",
       "      <td>William T. Vollmann</td>\n",
       "      <td>3.72</td>\n",
       "      <td>434</td>\n",
       "      <td>769</td>\n",
       "      <td>2/27/2007</td>\n",
       "      <td>Ecco</td>\n",
       "      <td>Poor People, William T. Vollmann, Ecco, 3.72</td>\n",
       "      <td>10346</td>\n",
       "    </tr>\n",
       "    <tr>\n",
       "      <th>10347</th>\n",
       "      <td>Las aventuras de Tom Sawyer</td>\n",
       "      <td>Mark Twain</td>\n",
       "      <td>3.91</td>\n",
       "      <td>272</td>\n",
       "      <td>113</td>\n",
       "      <td>5/28/2006</td>\n",
       "      <td>Edimat Libros</td>\n",
       "      <td>Las aventuras de Tom Sawyer, Mark Twain, Edima...</td>\n",
       "      <td>10347</td>\n",
       "    </tr>\n",
       "  </tbody>\n",
       "</table>\n",
       "</div>"
      ],
      "text/plain": [
       "                                                   title  \\\n",
       "10338  O Cavalo e o Seu Rapaz (As Crónicas de Nárnia ...   \n",
       "10339   O Sobrinho do Mágico (As Crónicas de Nárnia  #1)   \n",
       "10340  A Viagem do Caminheiro da Alvorada (As Crónica...   \n",
       "10341     O Príncipe Caspian (As Crónicas de Nárnia  #4)   \n",
       "10342                                  Whores for Gloria   \n",
       "10343   Expelled from Eden: A William T. Vollmann Reader   \n",
       "10344                        You Bright and Risen Angels   \n",
       "10345                    The Ice-Shirt (Seven Dreams #1)   \n",
       "10346                                        Poor People   \n",
       "10347                        Las aventuras de Tom Sawyer   \n",
       "\n",
       "                                                 authors  average_rating  \\\n",
       "10338        C.S. Lewis/Pauline Baynes/Ana Falcão Bastos            3.92   \n",
       "10339        C.S. Lewis/Pauline Baynes/Ana Falcão Bastos            4.04   \n",
       "10340        C.S. Lewis/Pauline Baynes/Ana Falcão Bastos            4.09   \n",
       "10341        C.S. Lewis/Pauline Baynes/Ana Falcão Bastos            3.97   \n",
       "10342                                William T. Vollmann            3.69   \n",
       "10343  William T. Vollmann/Larry McCaffery/Michael He...            4.06   \n",
       "10344                                William T. Vollmann            4.08   \n",
       "10345                                William T. Vollmann            3.96   \n",
       "10346                                William T. Vollmann            3.72   \n",
       "10347                                         Mark Twain            3.91   \n",
       "\n",
       "       pages  ratings_count publication_date           publisher  \\\n",
       "10338    160            207        8/15/2003  Editorial Presença   \n",
       "10339    147            396         4/8/2003  Editorial Presença   \n",
       "10340    176            161         9/1/2004  Editorial Presença   \n",
       "10341    160            215       10/11/2003  Editorial Presença   \n",
       "10342    160            932         2/1/1994       Penguin Books   \n",
       "10343    512            156       12/21/2004       Da Capo Press   \n",
       "10344    635            783        12/1/1988       Penguin Books   \n",
       "10345    415            820         8/1/1993       Penguin Books   \n",
       "10346    434            769        2/27/2007                Ecco   \n",
       "10347    272            113        5/28/2006       Edimat Libros   \n",
       "\n",
       "                                               full_book  bookID  \n",
       "10338  O Cavalo e o Seu Rapaz (As Crónicas de Nárnia ...   10338  \n",
       "10339  O Sobrinho do Mágico (As Crónicas de Nárnia  #...   10339  \n",
       "10340  A Viagem do Caminheiro da Alvorada (As Crónica...   10340  \n",
       "10341  O Príncipe Caspian (As Crónicas de Nárnia  #4)...   10341  \n",
       "10342  Whores for Gloria, William T. Vollmann, Pengui...   10342  \n",
       "10343  Expelled from Eden: A William T. Vollmann Read...   10343  \n",
       "10344  You Bright and Risen Angels, William T. Vollma...   10344  \n",
       "10345  The Ice-Shirt (Seven Dreams #1), William T. Vo...   10345  \n",
       "10346       Poor People, William T. Vollmann, Ecco, 3.72   10346  \n",
       "10347  Las aventuras de Tom Sawyer, Mark Twain, Edima...   10347  "
      ]
     },
     "execution_count": 6,
     "metadata": {},
     "output_type": "execute_result"
    }
   ],
   "source": [
    "df.tail(10)"
   ]
  },
  {
   "cell_type": "code",
   "execution_count": 7,
   "id": "b2e579e9",
   "metadata": {
    "execution": {
     "iopub.execute_input": "2023-08-30T09:35:00.846270Z",
     "iopub.status.busy": "2023-08-30T09:35:00.845915Z",
     "iopub.status.idle": "2023-08-30T09:35:03.614754Z",
     "shell.execute_reply": "2023-08-30T09:35:03.613680Z"
    },
    "papermill": {
     "duration": 2.796577,
     "end_time": "2023-08-30T09:35:03.617496",
     "exception": false,
     "start_time": "2023-08-30T09:35:00.820919",
     "status": "completed"
    },
    "tags": []
   },
   "outputs": [
    {
     "name": "stdout",
     "output_type": "stream",
     "text": [
      "Similarity Check: \n",
      "27:  0.30936668522625443%\n",
      "30:  0.23266645950935352%\n",
      "28:  0.22891157953227054%\n",
      "26:  0.22429123936124842%\n",
      "3588:  0.186676158584865%\n",
      "203:  0.17774408073239234%\n",
      "6200:  0.1759254530526786%\n",
      "2669:  0.14078941694784716%\n",
      "4139:  0.13363231570811626%\n",
      "4137:  0.13309248649220987%\n",
      "[None, None, None, None, None, None, None, None, None, None]\n"
     ]
    },
    {
     "data": {
      "text/plain": [
       "27      Hatchet: A Guide for Using \"Hatchet\" in the Cl...\n",
       "30         Hatchet Jobs: Writings on Contemporary Fiction\n",
       "28      Guts: The True Stories behind Hatchet and the ...\n",
       "26                             Hatchet (Brian's Saga  #1)\n",
       "3588                               More Milly Molly Mandy\n",
       "203     The Zen of CSS Design: Visual Enlightenment fo...\n",
       "6200    Common Ground: The Water  Earth  and Air We Share\n",
       "2669    The Secret of Fantasy Forest (Sweet Valley Kid...\n",
       "4139    A Dance to the Music of Time: 2nd Movement (A ...\n",
       "4137    A Dance to the Music of Time: 1st Movement (A ...\n",
       "Name: title, dtype: object"
      ]
     },
     "execution_count": 7,
     "metadata": {},
     "output_type": "execute_result"
    }
   ],
   "source": [
    "# Test 1\n",
    "book_rec('Molly Hatchet - 5 of the Best')"
   ]
  },
  {
   "cell_type": "code",
   "execution_count": 8,
   "id": "a4344b2f",
   "metadata": {
    "execution": {
     "iopub.execute_input": "2023-08-30T09:35:03.669641Z",
     "iopub.status.busy": "2023-08-30T09:35:03.668942Z",
     "iopub.status.idle": "2023-08-30T09:35:06.163382Z",
     "shell.execute_reply": "2023-08-30T09:35:06.161904Z"
    },
    "papermill": {
     "duration": 2.523297,
     "end_time": "2023-08-30T09:35:06.165804",
     "exception": false,
     "start_time": "2023-08-30T09:35:03.642507",
     "status": "completed"
    },
    "tags": []
   },
   "outputs": [
    {
     "name": "stdout",
     "output_type": "stream",
     "text": [
      "Similarity Check: \n",
      "8832:  0.6081203647472484%\n",
      "826:  0.5844012589121094%\n",
      "825:  0.562455292031787%\n",
      "9008:  0.544445532506407%\n",
      "4937:  0.49012934208576403%\n",
      "4939:  0.46616513332564413%\n",
      "821:  0.4639120991798406%\n",
      "824:  0.3736835755089112%\n",
      "817:  0.37095029715905214%\n",
      "9007:  0.3331008803032338%\n",
      "[None, None, None, None, None, None, None, None, None, None]\n"
     ]
    },
    {
     "data": {
      "text/plain": [
       "8832                           Mark Twain: Selected Works\n",
       "826                       The Autobiography of Mark Twain\n",
       "825              The Complete Short Stories of Mark Twain\n",
       "9008                    The Complete Essays of Mark Twain\n",
       "4937          Mark Twain's Adventures of Huckleberry Finn\n",
       "4939    Mark Twain's Own Autobiography: The Chapters f...\n",
       "821                        Adventures of Huckleberry Finn\n",
       "824     Mark Twain's Helpful Hints for Good Living: A ...\n",
       "817     Huck Finn & Tom Sawyer among the Indians & Oth...\n",
       "9007                                          Roughing It\n",
       "Name: title, dtype: object"
      ]
     },
     "execution_count": 8,
     "metadata": {},
     "output_type": "execute_result"
    }
   ],
   "source": [
    "# Test 2\n",
    "book_rec1('Mark Twain')"
   ]
  },
  {
   "cell_type": "code",
   "execution_count": null,
   "id": "433bbab4",
   "metadata": {
    "papermill": {
     "duration": 0.025613,
     "end_time": "2023-08-30T09:35:06.217410",
     "exception": false,
     "start_time": "2023-08-30T09:35:06.191797",
     "status": "completed"
    },
    "tags": []
   },
   "outputs": [],
   "source": []
  },
  {
   "cell_type": "code",
   "execution_count": null,
   "id": "20187bb1",
   "metadata": {
    "papermill": {
     "duration": 0.028126,
     "end_time": "2023-08-30T09:35:06.271412",
     "exception": false,
     "start_time": "2023-08-30T09:35:06.243286",
     "status": "completed"
    },
    "tags": []
   },
   "outputs": [],
   "source": []
  },
  {
   "cell_type": "code",
   "execution_count": null,
   "id": "3f062157",
   "metadata": {
    "papermill": {
     "duration": 0.025833,
     "end_time": "2023-08-30T09:35:06.323033",
     "exception": false,
     "start_time": "2023-08-30T09:35:06.297200",
     "status": "completed"
    },
    "tags": []
   },
   "outputs": [],
   "source": []
  },
  {
   "cell_type": "code",
   "execution_count": null,
   "id": "0e8753a0",
   "metadata": {
    "papermill": {
     "duration": 0.025663,
     "end_time": "2023-08-30T09:35:06.374947",
     "exception": false,
     "start_time": "2023-08-30T09:35:06.349284",
     "status": "completed"
    },
    "tags": []
   },
   "outputs": [],
   "source": []
  },
  {
   "cell_type": "code",
   "execution_count": null,
   "id": "3bd77374",
   "metadata": {
    "papermill": {
     "duration": 0.025781,
     "end_time": "2023-08-30T09:35:06.426900",
     "exception": false,
     "start_time": "2023-08-30T09:35:06.401119",
     "status": "completed"
    },
    "tags": []
   },
   "outputs": [],
   "source": []
  },
  {
   "cell_type": "code",
   "execution_count": null,
   "id": "6076af8d",
   "metadata": {
    "papermill": {
     "duration": 0.02637,
     "end_time": "2023-08-30T09:35:06.480376",
     "exception": false,
     "start_time": "2023-08-30T09:35:06.454006",
     "status": "completed"
    },
    "tags": []
   },
   "outputs": [],
   "source": []
  }
 ],
 "kernelspec": {
  "display_name": "Python 3",
  "language": "python",
  "name": "python3"
 },
 "language_info": {
  "codemirror_mode": {
   "name": "ipython",
   "version": 3
  },
  "file_extension": ".py",
  "mimetype": "text/x-python",
  "name": "python",
  "nbconvert_exporter": "python",
  "pygments_lexer": "ipython3",
  "version": "3.6.4"
 },
 "metadata": {
  "kernelspec": {
   "display_name": "Python 3",
   "language": "python",
   "name": "python3"
  },
  "language_info": {
   "codemirror_mode": {
    "name": "ipython",
    "version": 3
   },
   "file_extension": ".py",
   "mimetype": "text/x-python",
   "name": "python",
   "nbconvert_exporter": "python",
   "pygments_lexer": "ipython3",
   "version": "3.7.12"
  },
  "papermill": {
   "default_parameters": {},
   "duration": 19.484947,
   "end_time": "2023-08-30T09:35:07.231762",
   "environment_variables": {},
   "exception": null,
   "input_path": "__notebook__.ipynb",
   "output_path": "__notebook__.ipynb",
   "parameters": {},
   "start_time": "2023-08-30T09:34:47.746815",
   "version": "2.3.4"
  }
 },
 "nbformat": 4,
 "nbformat_minor": 5
}
